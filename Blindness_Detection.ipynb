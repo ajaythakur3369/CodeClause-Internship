{
  "nbformat": 4,
  "nbformat_minor": 0,
  "metadata": {
    "colab": {
      "provenance": [],
      "include_colab_link": true
    },
    "kernelspec": {
      "name": "python3",
      "display_name": "Python 3"
    },
    "language_info": {
      "name": "python"
    }
  },
  "cells": [
    {
      "cell_type": "markdown",
      "metadata": {
        "id": "view-in-github",
        "colab_type": "text"
      },
      "source": [
        "<a href=\"https://colab.research.google.com/github/ajaythakur3369/CodeClause-Internship/blob/main/Blindness_Detection.ipynb\" target=\"_parent\"><img src=\"https://colab.research.google.com/assets/colab-badge.svg\" alt=\"Open In Colab\"/></a>"
      ]
    },
    {
      "cell_type": "markdown",
      "source": [
        "# **Project Name - Blindness Detection**\n",
        "## **Developed By - Ajay Thakur (ajaythakur3369@gmail.com)**\n",
        "## **Branch Name - Electronics and Communication Engineering**\n",
        "## **Institute Name - Indian Institute of Information Technology Kota**\n",
        "## **Submitted To - CodeClause**\n",
        "## **Project Link (GitHub) - [Click here](https://github.com/ajaythakur3369/CodeClause-Internship)**\n",
        "\n",
        "\n"
      ],
      "metadata": {
        "id": "V11376iPKVL3"
      }
    },
    {
      "cell_type": "markdown",
      "source": [
        "## **Importing necessary libraries**"
      ],
      "metadata": {
        "id": "fYLxT1LGKZVV"
      }
    },
    {
      "cell_type": "code",
      "execution_count": null,
      "metadata": {
        "id": "426SzZ5mAMtp"
      },
      "outputs": [],
      "source": [
        "import numpy as np\n",
        "import pandas as pd\n",
        "from random import randrange\n",
        "import os\n",
        "import matplotlib.pyplot as plt\n",
        "from PIL import Image\n",
        "import seaborn as sns"
      ]
    },
    {
      "cell_type": "code",
      "source": [
        "from albumentations import (\n",
        "    HorizontalFlip, IAAPerspective, ShiftScaleRotate, CLAHE, RandomRotate90,\n",
        "    Transpose, ShiftScaleRotate, Blur, OpticalDistortion, GridDistortion, HueSaturationValue,\n",
        "    IAAAdditiveGaussianNoise, GaussNoise, MotionBlur, MedianBlur, RandomBrightnessContrast, IAAPiecewiseAffine,\n",
        "    IAASharpen, IAAEmboss, Flip, OneOf, Compose, PadIfNeeded\n",
        ")"
      ],
      "metadata": {
        "id": "QyKd2Pr9DiZ6"
      },
      "execution_count": null,
      "outputs": []
    },
    {
      "cell_type": "markdown",
      "source": [
        "## **Introduction**"
      ],
      "metadata": {
        "id": "DJMDPTtSDnJX"
      }
    },
    {
      "cell_type": "markdown",
      "source": [
        "##### Diabetic retinopathy is the leading cause of blindness among working-aged adults. Millions of people suffer from this disease. People with diabetes can develop an eye condition called diabetic retinopathy. This occurs when high blood sugar levels damage blood vessels in the retina. These vessels can swell and leak, or they can close, obstructing blood flow. In some cases, abnormal new blood vessels grow on the retina. These changes can ultimately lead to blindness."
      ],
      "metadata": {
        "id": "TAm2twVLDr0y"
      }
    },
    {
      "cell_type": "markdown",
      "source": [
        "## **Stages of Diabetic Eye Disease**"
      ],
      "metadata": {
        "id": "1APFgfF_DzLZ"
      }
    },
    {
      "cell_type": "markdown",
      "source": [
        "##### **NPDR (non-proliferative diabetic retinopathy):** With NPDR, tiny blood vessels leak, causing the retina to swell. When the macula swells, it is called macular edema, which is the most common reason why people with diabetes lose their vision. Also, with NPDR, blood vessels in the retina can close off, a condition known as macular ischemia. When this happens, blood cannot reach the macula. Sometimes, tiny particles called exudates can form in the retina, which can also affect vision.\n",
        "\n"
      ],
      "metadata": {
        "id": "Qou8WpJeD3ir"
      }
    },
    {
      "cell_type": "markdown",
      "source": [
        "##### **PDR (proliferative diabetic retinopathy):** PDR is the more advanced stage of diabetic eye disease. It occurs when the retina begins to grow new blood vessels, a condition known as neovascularization. These fragile new vessels often bleed into the vitreous. If they bleed only a little, you might see a few dark floaters. If they bleed a lot, it might block all vision. Moreover, these new blood vessels can form scar tissue, which can cause problems with the macula or lead to a detached retina. PDR is very serious and can affect both your central and peripheral (side) vision."
      ],
      "metadata": {
        "id": "ONXLu589D9jK"
      }
    },
    {
      "cell_type": "markdown",
      "source": [
        "## **Load Data**"
      ],
      "metadata": {
        "id": "Ir1fLyJiEEt_"
      }
    },
    {
      "cell_type": "markdown",
      "source": [
        "Load training and testing CSV files containing image filenames and corresponding labels (only for the training set):"
      ],
      "metadata": {
        "id": "LAobK3GfEIyt"
      }
    },
    {
      "cell_type": "code",
      "source": [
        "# Access the Drive from Colab to access the file\n",
        "from google.colab import drive\n",
        "drive.mount('/content/drive/')"
      ],
      "metadata": {
        "id": "xBfZ0OmWEOa1"
      },
      "execution_count": null,
      "outputs": []
    },
    {
      "cell_type": "code",
      "source": [
        "# Load CSV files with labels as Pandas DataFrames\n",
        "train = pd.read_csv('/content/drive/MyDrive/Colab_Notebook/Internship_Name/CodeClause/File_Name/Training_dataset.csv')\n",
        "test = pd.read_csv('/content/drive/MyDrive/Colab_Notebook/Internship_Name/CodeClause/File_Name/Testing_dataset.csv')"
      ],
      "metadata": {
        "id": "CoGKOQ2bEhhu"
      },
      "execution_count": null,
      "outputs": []
    },
    {
      "cell_type": "code",
      "source": [
        "# Find out the number of images in the test and train sets\n",
        "print('The number of images in the training set is {}'.format(len(train)))\n",
        "print('The number of images in the test set is {}'.format(len(test)))"
      ],
      "metadata": {
        "id": "v-qU5kNxFa1z"
      },
      "execution_count": null,
      "outputs": []
    },
    {
      "cell_type": "code",
      "source": [
        "# Plot a pie chart\n",
        "labels = 'Train', 'Test'\n",
        "sizes = len(train), len(test)\n",
        "\n",
        "fig1, ax1 = plt.subplots(figsize = (5, 5))\n",
        "ax1.pie(sizes, labels = labels, autopct = '%1.1f%%', shadow = True, startangle = 90)\n",
        "ax1.axis('equal')\n",
        "\n",
        "plt.title('Train and Test sets')\n",
        "plt.show()"
      ],
      "metadata": {
        "id": "SahC0eOyFddw"
      },
      "execution_count": null,
      "outputs": []
    },
    {
      "cell_type": "markdown",
      "source": [
        "Both the training and testing datasets are not too large."
      ],
      "metadata": {
        "id": "WiXwL6K-LrjC"
      }
    },
    {
      "cell_type": "markdown",
      "source": [
        "The training dataset is about three times larger than the testing dataset."
      ],
      "metadata": {
        "id": "m29fOXVWLulO"
      }
    },
    {
      "cell_type": "markdown",
      "source": [
        "## **Analyze Train Set Labels**"
      ],
      "metadata": {
        "id": "zCH1dqx7L0Iu"
      }
    },
    {
      "cell_type": "markdown",
      "source": [
        "Plot a pie chart showing the percentage of images for each diabetic retinopathy severity condition:"
      ],
      "metadata": {
        "id": "ZGOY2hVTL5MT"
      }
    },
    {
      "cell_type": "code",
      "source": [
        "# Plot a pie chart\n",
        "labels = 'No DR', 'Moderate', 'Mild', 'Proliferative DR', 'Severe'\n",
        "sizes = train.diagnosis.value_counts()\n",
        "\n",
        "fig1, ax1 = plt.subplots(figsize = (10, 7))\n",
        "ax1.pie(sizes, labels = labels, autopct = '%1.1f%%', shadow = True, startangle = 90)\n",
        "ax1.axis('equal')\n",
        "\n",
        "plt.title('Diabetic retinopathy condition labels')\n",
        "plt.show()"
      ],
      "metadata": {
        "id": "glbPIW4aLpGn"
      },
      "execution_count": null,
      "outputs": []
    },
    {
      "cell_type": "markdown",
      "source": [
        "We can see that the training dataset is **very imbalanced**. There are ten times more images with no DR than images with the severe DR condition."
      ],
      "metadata": {
        "id": "dig9zdjVMESN"
      }
    },
    {
      "cell_type": "markdown",
      "source": [
        "**Data augmentation** is required to perform the classification."
      ],
      "metadata": {
        "id": "slJEeETHMGXl"
      }
    },
    {
      "cell_type": "markdown",
      "source": [
        "## **Visualize Sample Images**"
      ],
      "metadata": {
        "id": "kIJ5-tZTMNTI"
      }
    },
    {
      "cell_type": "markdown",
      "source": [
        "Let's plot fundus photography images from the training set of different conditions:"
      ],
      "metadata": {
        "id": "pSgBpJD_MQ0g"
      }
    },
    {
      "cell_type": "code",
      "source": [
        "# Define paths to train and test images\n",
        "TRAIN_IMG_PATH = \"/content/drive/MyDrive/Colab_Notebook/Internship_Name/CodeClause/Folder_Name/blindness_train_images/\"\n",
        "TEST_IMG_PATH = \"/content/drive/MyDrive/Colab_Notebook/Internship_Name/CodeClause/Folder_Name/blindness_test_images/\"\n",
        "\n",
        "# Function to plot a grid of images\n",
        "def view_fundus_images(images, title = ''):\n",
        "\n",
        "    \"\"\"\n",
        "    Function to plot grid with several examples of fundus images.\n",
        "    INPUT:\n",
        "        train - array with filenames for images and condition labels\n",
        "    OUTPUT: None\n",
        "    \"\"\"\n",
        "\n",
        "    width = 5\n",
        "    height = 2\n",
        "    fig, axs = plt.subplots(height, width, figsize = (15, 5))\n",
        "\n",
        "    for im in range(0, height * width):\n",
        "\n",
        "        # Open image\n",
        "        image = Image.open(os.path.join(TRAIN_IMG_PATH, images[im] + '.png'))\n",
        "        i = im // width\n",
        "        j = im % width\n",
        "\n",
        "        # Plot the data\n",
        "        axs[i, j].imshow(image)\n",
        "        axs[i, j].axis('off')\n",
        "\n",
        "    # Set suptitle\n",
        "    plt.suptitle(title)\n",
        "    plt.show()"
      ],
      "metadata": {
        "id": "F_LOd9BCTRLo"
      },
      "execution_count": null,
      "outputs": []
    },
    {
      "cell_type": "code",
      "source": [
        "view_fundus_images(train[train['diagnosis'] == 0][:10].id_code.values, title = 'Images without DR')"
      ],
      "metadata": {
        "id": "ZHpEJt-MT18Y"
      },
      "execution_count": null,
      "outputs": []
    },
    {
      "cell_type": "code",
      "source": [
        "view_fundus_images(train[train['diagnosis'] == 1][:10].id_code.values, title = 'Images with Mild condition')"
      ],
      "metadata": {
        "id": "tbIIrNWdd_-F"
      },
      "execution_count": null,
      "outputs": []
    },
    {
      "cell_type": "code",
      "source": [
        "view_fundus_images(train[train['diagnosis'] == 2][:10].id_code.values, title = 'Images with Moderate condition')"
      ],
      "metadata": {
        "id": "1cnorrayeGzw"
      },
      "execution_count": null,
      "outputs": []
    },
    {
      "cell_type": "code",
      "source": [
        "view_fundus_images(train[train['diagnosis'] == 3][:10].id_code.values, title = 'Images with Severe condition')"
      ],
      "metadata": {
        "id": "iHSchTlDeMSI"
      },
      "execution_count": null,
      "outputs": []
    },
    {
      "cell_type": "code",
      "source": [
        "view_fundus_images(train[train['diagnosis'] == 4][:10].id_code.values, title = 'Images with Proliferative DR')"
      ],
      "metadata": {
        "id": "XNGvY_9PeP4s"
      },
      "execution_count": null,
      "outputs": []
    },
    {
      "cell_type": "markdown",
      "source": [
        "Just glancing through various images, we can observe:\n",
        "\n",
        "* Images are of different sizes, and the height and width ratios vary. Therefore, image cropping or padding is necessary.\n",
        "* Pictures are taken with various scales, indicating the need for random cropping augmentation.\n",
        "* Lighting and colors vary greatly, suggesting the need for augmentations that adjust brightness and color scales."
      ],
      "metadata": {
        "id": "rNIhWAMyeUGw"
      }
    },
    {
      "cell_type": "markdown",
      "source": [
        "## **Analyze Image Sizes**"
      ],
      "metadata": {
        "id": "-hFJ9NQGetUO"
      }
    },
    {
      "cell_type": "markdown",
      "source": [
        "Plot histograms for image sizes (used code from this kernel for the analysis):"
      ],
      "metadata": {
        "id": "nS7HOyMqexpG"
      }
    },
    {
      "cell_type": "code",
      "source": [
        "def get_image_sizes(df, train = True):\n",
        "\n",
        "    '''\n",
        "    Function to get sizes of images from test and train sets\n",
        "    INPUT:\n",
        "        df - dataframe containing image filenames\n",
        "        train - indicates whether we are getting sizes of images from train or test set\n",
        "    '''\n",
        "\n",
        "    if train:\n",
        "        path = TRAIN_IMG_PATH\n",
        "    else:\n",
        "        path = TEST_IMG_PATH\n",
        "\n",
        "    widths = []\n",
        "    heights = []\n",
        "\n",
        "    images = df.id_code\n",
        "\n",
        "    max_im = Image.open(os.path.join(path, images[0] + '.png'))\n",
        "    min_im = Image.open(os.path.join(path, images[0] + '.png'))\n",
        "\n",
        "    for im in range(0, len(images)):\n",
        "        image = Image.open(os.path.join(path, images[im] + '.png'))\n",
        "        width, height = image.size\n",
        "\n",
        "        if len(widths) > 0:\n",
        "            if width > max(widths):\n",
        "                max_im = image\n",
        "\n",
        "            if width < min(widths):\n",
        "                min_im = image\n",
        "\n",
        "        widths.append(width)\n",
        "        heights.append(height)\n",
        "\n",
        "    return widths, heights, max_im, min_im"
      ],
      "metadata": {
        "id": "r_BEOZZoe03H"
      },
      "execution_count": null,
      "outputs": []
    },
    {
      "cell_type": "code",
      "source": [
        "# Get sizes of images from test and train sets\n",
        "train_widths, train_heights, max_train, min_train = get_image_sizes(train, train = True)\n",
        "test_widths, test_heights, max_test, min_test = get_image_sizes(test, train = False)"
      ],
      "metadata": {
        "id": "3y_w5_lOfDax"
      },
      "execution_count": null,
      "outputs": []
    },
    {
      "cell_type": "code",
      "source": [
        "print('The maximum width for the training set is {}'.format(max(train_widths)))\n",
        "print('The minimum width for training set is {}'.format(min(train_widths)))\n",
        "print('The maximum height for training set is {}'.format(max(train_heights)))\n",
        "print('The minimum height for training set is {}'.format(min(train_heights)))"
      ],
      "metadata": {
        "id": "nCuTiX-IfHZF"
      },
      "execution_count": null,
      "outputs": []
    },
    {
      "cell_type": "code",
      "source": [
        "print('The maximum width for test set is {}'.format(max(test_widths)))\n",
        "print('The minimum width for test set is {}'.format(min(test_widths)))\n",
        "print('The maximum height for test set is {}'.format(max(test_heights)))\n",
        "print('The minimum height for test set is {}'.format(min(test_heights)))"
      ],
      "metadata": {
        "id": "0Qy0zh1cfJm1"
      },
      "execution_count": null,
      "outputs": []
    },
    {
      "cell_type": "code",
      "source": [
        "# Plot histograms and KDE plots for images from the training set\n",
        "plt.figure(figsize = (14, 6))\n",
        "plt.subplot(121)\n",
        "sns.distplot(train_widths, kde = False, label = 'Train Width')\n",
        "sns.distplot(train_heights, kde = False, label = 'Train Height')\n",
        "plt.legend()\n",
        "plt.title('Training Image Dimension Histogram', fontsize = 15)\n",
        "\n",
        "plt.subplot(122)\n",
        "sns.kdeplot(train_widths, label = 'Train Width')\n",
        "sns.kdeplot(train_heights, label = 'Train Height')\n",
        "plt.legend()\n",
        "plt.title('Train Image Dimension KDE Plot', fontsize = 15)\n",
        "\n",
        "plt.tight_layout()\n",
        "plt.show()"
      ],
      "metadata": {
        "id": "bOkLXm3OfMHJ"
      },
      "execution_count": null,
      "outputs": []
    },
    {
      "cell_type": "code",
      "source": [
        "# Plot Histograms and KDE plots for images from the test set\n",
        "plt.figure(figsize = (14, 6))\n",
        "plt.subplot(121)\n",
        "sns.distplot(test_widths, kde = False, label = 'Test Width')\n",
        "sns.distplot(test_heights, kde = False, label = 'Test Height')\n",
        "plt.legend()\n",
        "plt.title('Test Image Dimension Histogram', fontsize = 15)\n",
        "\n",
        "plt.subplot(122)\n",
        "sns.kdeplot(test_widths, label = 'Test Width')\n",
        "sns.kdeplot(test_heights, label = 'Test Height')\n",
        "plt.legend()\n",
        "plt.title('Test Image Dimension KDE Plot', fontsize = 15)\n",
        "\n",
        "plt.tight_layout()\n",
        "plt.show()"
      ],
      "metadata": {
        "id": "ga_pP2nTfQct"
      },
      "execution_count": null,
      "outputs": []
    },
    {
      "cell_type": "markdown",
      "source": [
        "We see that we have very different distributions of image sizes for the train and test datasets."
      ],
      "metadata": {
        "id": "QXlW5cPxfUWv"
      }
    },
    {
      "cell_type": "markdown",
      "source": [
        "## **Plot largest and smallest images**"
      ],
      "metadata": {
        "id": "g6Uim_ryfWcc"
      }
    },
    {
      "cell_type": "markdown",
      "source": [
        "Let's look at the largest and the smallest images from both sets.\n",
        "\n",
        "Image with the largest width from the training set:"
      ],
      "metadata": {
        "id": "Be775Qu4faGb"
      }
    },
    {
      "cell_type": "code",
      "source": [
        "plt.axis('off')\n",
        "\n",
        "# Plot the data\n",
        "plt.imshow(max_train)"
      ],
      "metadata": {
        "id": "G2GQgLQVfQ8V"
      },
      "execution_count": null,
      "outputs": []
    },
    {
      "cell_type": "markdown",
      "source": [
        "Image with the smallest width from the training set:"
      ],
      "metadata": {
        "id": "sqQkzMs5ffvg"
      }
    },
    {
      "cell_type": "code",
      "source": [
        "plt.axis('off')\n",
        "\n",
        "# Plot the data\n",
        "plt.imshow(min_train)"
      ],
      "metadata": {
        "id": "-7wsrGntfhs8"
      },
      "execution_count": null,
      "outputs": []
    },
    {
      "cell_type": "markdown",
      "source": [
        "Image with the largest width from the test set:"
      ],
      "metadata": {
        "id": "wnAi0GBzfkLV"
      }
    },
    {
      "cell_type": "code",
      "source": [
        "plt.axis('off')\n",
        "\n",
        "# Plot the data\n",
        "plt.imshow(max_test)"
      ],
      "metadata": {
        "id": "3mSBK3S_fmM7"
      },
      "execution_count": null,
      "outputs": []
    },
    {
      "cell_type": "markdown",
      "source": [
        "Image with the smallest width from the training set:"
      ],
      "metadata": {
        "id": "1XAY_ZxwfoWh"
      }
    },
    {
      "cell_type": "code",
      "source": [
        "plt.axis('off')\n",
        "\n",
        "# Plot the data\n",
        "plt.imshow(min_test)"
      ],
      "metadata": {
        "id": "Ptw3n8uOfqBj"
      },
      "execution_count": null,
      "outputs": []
    },
    {
      "cell_type": "markdown",
      "source": [
        "## **Playing with Augmentations**"
      ],
      "metadata": {
        "id": "WB3_GQhJfr15"
      }
    },
    {
      "cell_type": "markdown",
      "source": [
        "Finally, I would like to experiment with some augmentations. This will help to get an impression of the augmented dataset."
      ],
      "metadata": {
        "id": "RQ_3O79VfxqT"
      }
    },
    {
      "cell_type": "code",
      "source": [
        "# Define the dictionary for labels\n",
        "diagnosis_dict = {\n",
        "    0:'No DR',\n",
        "    1:'Mild',\n",
        "    2:'Moderate',\n",
        "    3: 'Severe',\n",
        "    4: 'Proliferative DR'\n",
        "}"
      ],
      "metadata": {
        "id": "gD4xbiVjf0q6"
      },
      "execution_count": null,
      "outputs": []
    },
    {
      "cell_type": "code",
      "source": [
        "# Function to plot a grid of images\n",
        "def view_fundus_images_labels(train, rand_indices, aug = None, title = ''):\n",
        "\n",
        "    \"\"\"\n",
        "    Function to plot grid with several examples of fundus images.\n",
        "    INPUT:\n",
        "        train - array with filenames for images and condition labels\n",
        "        rand_indices - indices of images to plot\n",
        "        title - plot title\n",
        "\n",
        "    OUTPUT: None\n",
        "    \"\"\"\n",
        "\n",
        "    width = 5\n",
        "    height = 2\n",
        "    counter = 0\n",
        "    fig, axs = plt.subplots(height, width, figsize = (15, 5))\n",
        "\n",
        "    for im in rand_indices:\n",
        "\n",
        "        # Open image\n",
        "        image = Image.open(os.path.join(TRAIN_IMG_PATH, train.iloc[im].id_code + '.png'))\n",
        "\n",
        "        if aug is not None:\n",
        "            image = aug(image = np.array(image))['image']\n",
        "\n",
        "        i = counter // width\n",
        "        j = counter % width\n",
        "\n",
        "        # Plot the data\n",
        "        axs[i, j].imshow(image)\n",
        "        axs[i, j].axis('off')\n",
        "\n",
        "        diagnosis = train[train['id_code'] == train.iloc[im].id_code].diagnosis.values[0]\n",
        "\n",
        "        axs[i,j].set_title(diagnosis_dict[diagnosis])\n",
        "        counter += 1\n",
        "\n",
        "    # Set supertitle\n",
        "    plt.suptitle(title)\n",
        "    plt.show()"
      ],
      "metadata": {
        "id": "g4dP-CJOf1Wv"
      },
      "execution_count": null,
      "outputs": []
    },
    {
      "cell_type": "markdown",
      "source": [
        "Plot random images from the training set."
      ],
      "metadata": {
        "id": "hbi4RImKf5wf"
      }
    },
    {
      "cell_type": "code",
      "source": [
        "# Get some random image indices from the training set\n",
        "rand_indices = [randrange(len(train)) for x in range(0, 10)]\n",
        "rand_indices"
      ],
      "metadata": {
        "id": "xsQf_K6Mf38g"
      },
      "execution_count": null,
      "outputs": []
    },
    {
      "cell_type": "code",
      "source": [
        "# Plot original images\n",
        "view_fundus_images_labels(train, rand_indices, title = 'Original images')"
      ],
      "metadata": {
        "id": "aEpGYzlYf99P"
      },
      "execution_count": null,
      "outputs": []
    },
    {
      "cell_type": "markdown",
      "source": [
        "Now let's experiment with some Albumentations filters:"
      ],
      "metadata": {
        "id": "ZC_67GJEgAn4"
      }
    },
    {
      "cell_type": "markdown",
      "source": [
        "Augment the images with CLAHE:"
      ],
      "metadata": {
        "id": "AZKTP73ygBME"
      }
    },
    {
      "cell_type": "code",
      "source": [
        "aug = CLAHE(p = 1)\n",
        "view_fundus_images_labels(train, rand_indices, aug, title = 'CLAHE')"
      ],
      "metadata": {
        "id": "NFRT9hungEfn"
      },
      "execution_count": null,
      "outputs": []
    },
    {
      "cell_type": "markdown",
      "source": [
        "Try adding some Gaussian noise:"
      ],
      "metadata": {
        "id": "G-FLrtb4gGrw"
      }
    },
    {
      "cell_type": "code",
      "source": [
        "aug = GaussNoise(p = 1)\n",
        "view_fundus_images_labels(train, rand_indices, aug, title = 'GaussNoise')"
      ],
      "metadata": {
        "id": "MOtb5eMcgIVy"
      },
      "execution_count": null,
      "outputs": []
    },
    {
      "cell_type": "markdown",
      "source": [
        "Playing with brightness and contrast:"
      ],
      "metadata": {
        "id": "fBlGNFSCgKLM"
      }
    },
    {
      "cell_type": "code",
      "source": [
        "aug = RandomBrightnessContrast(brightness_limit = 1, contrast_limit = 1, p = 1)\n",
        "view_fundus_images_labels(train, rand_indices, aug, title = 'RandomBrightnessContrast')"
      ],
      "metadata": {
        "id": "2ydZuEJ_gMYz"
      },
      "execution_count": null,
      "outputs": []
    },
    {
      "cell_type": "markdown",
      "source": [
        "See how random brightness and contrast affect images. This filter should certainly be used for data augmentation."
      ],
      "metadata": {
        "id": "xdAg0qKggPLj"
      }
    },
    {
      "cell_type": "markdown",
      "source": [
        "Padding images:"
      ],
      "metadata": {
        "id": "89A1Bq4AgQxI"
      }
    },
    {
      "cell_type": "code",
      "source": [
        "aug = PadIfNeeded(min_height = 1024, min_width = 1024, p = 1)\n",
        "view_fundus_images_labels(train, rand_indices, aug, title = 'Padding Images')"
      ],
      "metadata": {
        "id": "3dmMyP2kgSbH"
      },
      "execution_count": null,
      "outputs": []
    },
    {
      "cell_type": "markdown",
      "source": [
        "## **Conclusion**"
      ],
      "metadata": {
        "id": "mgt5DRNagUv9"
      }
    },
    {
      "cell_type": "markdown",
      "source": [
        "After the EDA, we can conclude the following:\n",
        "\n",
        "* The dataset is heavily imbalanced, necessitating data augmentation.\n",
        "* The distribution of image sizes differs between the train and test sets, which may affect classification results.\n",
        "* Additionally, in this EDA, we explored augmented images to gain an impression of what the augmented dataset will look like."
      ],
      "metadata": {
        "id": "bvem7rPfgX_Q"
      }
    }
  ]
}